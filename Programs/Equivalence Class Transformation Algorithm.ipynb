{
 "cells": [
  {
   "cell_type": "code",
   "execution_count": 12,
   "id": "333d1430",
   "metadata": {},
   "outputs": [],
   "source": [
    "# Install the necessary package\n",
    "# !pip install apyori\n",
    "\n",
    "import numpy as np\n",
    "import matplotlib.pyplot as plt\n",
    "import pandas as pd\n",
    "from apyori import apriori"
   ]
  },
  {
   "cell_type": "code",
   "execution_count": 13,
   "id": "a04b3e0c",
   "metadata": {},
   "outputs": [
    {
     "name": "stdout",
     "output_type": "stream",
     "text": [
      "             citrus fruit       semi-finished bread            margarine  \\\n",
      "0          tropical fruit                    yogurt               coffee   \n",
      "1              whole milk                       NaN                  NaN   \n",
      "2               pip fruit                    yogurt        cream cheese    \n",
      "3        other vegetables                whole milk       condensed milk   \n",
      "4              rolls/buns                       NaN                  NaN   \n",
      "...                   ...                       ...                  ...   \n",
      "6100               yogurt  long life bakery product                  NaN   \n",
      "6101                 pork         frozen vegetables               pastry   \n",
      "6102            ice cream  long life bakery product  specialty chocolate   \n",
      "6103    cooking chocolate                       NaN                  NaN   \n",
      "6104  semi-finished bread             bottled water                 soda   \n",
      "\n",
      "                   ready soups  \n",
      "0                          NaN  \n",
      "1                          NaN  \n",
      "2                 meat spreads  \n",
      "3     long life bakery product  \n",
      "4                          NaN  \n",
      "...                        ...  \n",
      "6100                       NaN  \n",
      "6101                       NaN  \n",
      "6102             specialty bar  \n",
      "6103                       NaN  \n",
      "6104              bottled beer  \n",
      "\n",
      "[6105 rows x 4 columns]\n"
     ]
    }
   ],
   "source": [
    "# Load the dataset\n",
    "dataset = pd.read_csv('groceries (1).csv', on_bad_lines='skip')\n",
    "print(dataset)"
   ]
  },
  {
   "cell_type": "code",
   "execution_count": 14,
   "id": "b029b328",
   "metadata": {},
   "outputs": [
    {
     "name": "stdout",
     "output_type": "stream",
     "text": [
      "[RelationRecord(items=frozenset({'beef', 'other vegetables'}), support=0.00475020475020475, ordered_statistics=[OrderedStatistic(items_base=frozenset({'beef'}), items_add=frozenset({'other vegetables'}), confidence=0.19863013698630136, lift=2.2836854732605834)]), RelationRecord(items=frozenset({'beef', 'root vegetables'}), support=0.0036036036036036037, ordered_statistics=[OrderedStatistic(items_base=frozenset({'beef'}), items_add=frozenset({'root vegetables'}), confidence=0.1506849315068493, lift=4.052561704182005)]), RelationRecord(items=frozenset({'whipped/sour cream', 'berries'}), support=0.002620802620802621, ordered_statistics=[OrderedStatistic(items_base=frozenset({'berries'}), items_add=frozenset({'whipped/sour cream'}), confidence=0.21333333333333335, lift=8.039506172839507)]), RelationRecord(items=frozenset({'yogurt', 'berries'}), support=0.0027846027846027844, ordered_statistics=[OrderedStatistic(items_base=frozenset({'berries'}), items_add=frozenset({'yogurt'}), confidence=0.22666666666666666, lift=3.603645833333333)]), RelationRecord(items=frozenset({'liquor', 'bottled beer'}), support=0.005896805896805897, ordered_statistics=[OrderedStatistic(items_base=frozenset({'liquor'}), items_add=frozenset({'bottled beer'}), confidence=0.5625, lift=8.458282019704432)]), RelationRecord(items=frozenset({'red/blush wine', 'bottled beer'}), support=0.0029484029484029483, ordered_statistics=[OrderedStatistic(items_base=frozenset({'red/blush wine'}), items_add=frozenset({'bottled beer'}), confidence=0.21951219512195122, lift=3.300792983299291)]), RelationRecord(items=frozenset({'bottled water', 'white wine'}), support=0.0034398034398034397, ordered_statistics=[OrderedStatistic(items_base=frozenset({'white wine'}), items_add=frozenset({'bottled water'}), confidence=0.2079207920792079, lift=3.1264936838511432)]), RelationRecord(items=frozenset({'other vegetables', 'chicken'}), support=0.0031122031122031123, ordered_statistics=[OrderedStatistic(items_base=frozenset({'chicken'}), items_add=frozenset({'other vegetables'}), confidence=0.1743119266055046, lift=2.004094749390971)]), RelationRecord(items=frozenset({'other vegetables', 'citrus fruit'}), support=0.006060606060606061, ordered_statistics=[OrderedStatistic(items_base=frozenset({'citrus fruit'}), items_add=frozenset({'other vegetables'}), confidence=0.17874396135265702, lift=2.0550506291110566)]), RelationRecord(items=frozenset({'tropical fruit', 'citrus fruit'}), support=0.0037674037674037676, ordered_statistics=[OrderedStatistic(items_base=frozenset({'citrus fruit'}), items_add=frozenset({'tropical fruit'}), confidence=0.11111111111111112, lift=2.7914951989026067)]), RelationRecord(items=frozenset({'yogurt', 'curd'}), support=0.0029484029484029483, ordered_statistics=[OrderedStatistic(items_base=frozenset({'curd'}), items_add=frozenset({'yogurt'}), confidence=0.14516129032258063, lift=2.307837701612903)]), RelationRecord(items=frozenset({'frankfurter', 'rolls/buns'}), support=0.00819000819000819, ordered_statistics=[OrderedStatistic(items_base=frozenset({'frankfurter'}), items_add=frozenset({'rolls/buns'}), confidence=0.2840909090909091, lift=2.2524350649350655)]), RelationRecord(items=frozenset({'other vegetables', 'hamburger meat'}), support=0.002620802620802621, ordered_statistics=[OrderedStatistic(items_base=frozenset({'hamburger meat'}), items_add=frozenset({'other vegetables'}), confidence=0.21333333333333335, lift=2.4527306967984934)]), RelationRecord(items=frozenset({'liquor', 'red/blush wine'}), support=0.002293202293202293, ordered_statistics=[OrderedStatistic(items_base=frozenset({'liquor'}), items_add=frozenset({'red/blush wine'}), confidence=0.21874999999999997, lift=16.286204268292682), OrderedStatistic(items_base=frozenset({'red/blush wine'}), items_add=frozenset({'liquor'}), confidence=0.17073170731707316, lift=16.286204268292682)]), RelationRecord(items=frozenset({'other vegetables', 'root vegetables'}), support=0.007534807534807535, ordered_statistics=[OrderedStatistic(items_base=frozenset({'root vegetables'}), items_add=frozenset({'other vegetables'}), confidence=0.20264317180616742, lift=2.32982403743249)]), RelationRecord(items=frozenset({'white bread', 'other vegetables'}), support=0.0031122031122031123, ordered_statistics=[OrderedStatistic(items_base=frozenset({'white bread'}), items_add=frozenset({'other vegetables'}), confidence=0.18811881188118812, lift=2.1628349275605525)]), RelationRecord(items=frozenset({'pip fruit', 'tropical fruit'}), support=0.0037674037674037676, ordered_statistics=[OrderedStatistic(items_base=frozenset({'pip fruit'}), items_add=frozenset({'tropical fruit'}), confidence=0.1216931216931217, lift=3.0573518845123786)]), RelationRecord(items=frozenset({'rolls/buns', 'sausage'}), support=0.013431613431613431, ordered_statistics=[OrderedStatistic(items_base=frozenset({'rolls/buns'}), items_add=frozenset({'sausage'}), confidence=0.1064935064935065, lift=2.2113702623906706), OrderedStatistic(items_base=frozenset({'sausage'}), items_add=frozenset({'rolls/buns'}), confidence=0.2789115646258503, lift=2.2113702623906706)])]\n"
     ]
    }
   ],
   "source": [
    "# Assigning values to the transactions list\n",
    "transactions = []\n",
    "for i in range(0, dataset.shape[0]):\n",
    "    transactions.append([str(dataset.values[i, j]) for j in range(0, dataset.shape[1])])\n",
    "\n",
    "# Creating the Apriori model\n",
    "rules = apriori(transactions=transactions, min_support=0.002, min_confidence=0.1, min_lift=2, min_length=2, max_length=2)\n",
    "\n",
    "# Print the rules\n",
    "results = list(rules)\n",
    "print(results)"
   ]
  },
  {
   "cell_type": "code",
   "execution_count": 15,
   "id": "728be12f",
   "metadata": {},
   "outputs": [
    {
     "name": "stdout",
     "output_type": "stream",
     "text": [
      "          Product 1           Product 2   Support\n",
      "0              beef    other vegetables  0.004750\n",
      "1              beef     root vegetables  0.003604\n",
      "2           berries  whipped/sour cream  0.002621\n",
      "3           berries              yogurt  0.002785\n",
      "4            liquor        bottled beer  0.005897\n",
      "5    red/blush wine        bottled beer  0.002948\n",
      "6        white wine       bottled water  0.003440\n",
      "7           chicken    other vegetables  0.003112\n",
      "8      citrus fruit    other vegetables  0.006061\n",
      "9      citrus fruit      tropical fruit  0.003767\n",
      "10             curd              yogurt  0.002948\n",
      "11      frankfurter          rolls/buns  0.008190\n",
      "12   hamburger meat    other vegetables  0.002621\n",
      "13           liquor      red/blush wine  0.002293\n",
      "14  root vegetables    other vegetables  0.007535\n",
      "15      white bread    other vegetables  0.003112\n",
      "16        pip fruit      tropical fruit  0.003767\n",
      "17       rolls/buns             sausage  0.013432\n"
     ]
    }
   ],
   "source": [
    "def inspect(results):\n",
    "    lhs = [tuple(result[2][0][0])[0] for result in results]\n",
    "    rhs = [tuple(result[2][0][1])[0] for result in results]\n",
    "    supports = [result[1] for result in results]\n",
    "    return list(zip(lhs, rhs, supports))\n",
    "\n",
    "# Create a DataFrame with the results\n",
    "resultsinDataFrame = pd.DataFrame(inspect(results), columns=['Product 1', 'Product 2', 'Support'])\n",
    "\n",
    "# Display the DataFrame\n",
    "print(resultsinDataFrame)"
   ]
  },
  {
   "cell_type": "code",
   "execution_count": 16,
   "id": "ee39636a",
   "metadata": {},
   "outputs": [
    {
     "name": "stdout",
     "output_type": "stream",
     "text": [
      "          Product 1         Product 2   Support\n",
      "17       rolls/buns           sausage  0.013432\n",
      "11      frankfurter        rolls/buns  0.008190\n",
      "14  root vegetables  other vegetables  0.007535\n",
      "8      citrus fruit  other vegetables  0.006061\n",
      "4            liquor      bottled beer  0.005897\n",
      "0              beef  other vegetables  0.004750\n",
      "9      citrus fruit    tropical fruit  0.003767\n",
      "16        pip fruit    tropical fruit  0.003767\n",
      "1              beef   root vegetables  0.003604\n",
      "6        white wine     bottled water  0.003440\n"
     ]
    }
   ],
   "source": [
    "# Display the results sorted by descending lifts\n",
    "top_results = resultsinDataFrame.nlargest(n=10, columns='Support')\n",
    "print(top_results)"
   ]
  },
  {
   "cell_type": "code",
   "execution_count": null,
   "id": "23c4334f",
   "metadata": {},
   "outputs": [],
   "source": []
  }
 ],
 "metadata": {
  "kernelspec": {
   "display_name": "Python 3 (ipykernel)",
   "language": "python",
   "name": "python3"
  },
  "language_info": {
   "codemirror_mode": {
    "name": "ipython",
    "version": 3
   },
   "file_extension": ".py",
   "mimetype": "text/x-python",
   "name": "python",
   "nbconvert_exporter": "python",
   "pygments_lexer": "ipython3",
   "version": "3.10.9"
  }
 },
 "nbformat": 4,
 "nbformat_minor": 5
}
